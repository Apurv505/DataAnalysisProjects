{
 "cells": [
  {
   "cell_type": "code",
   "execution_count": 43,
   "metadata": {},
   "outputs": [],
   "source": [
    "from bs4 import BeautifulSoup\n",
    "import requests\n",
    "import smtplib\n",
    "import time\n",
    "import datetime\n",
    "import csv\n",
    "import pandas as pd"
   ]
  },
  {
   "cell_type": "code",
   "execution_count": 3,
   "metadata": {},
   "outputs": [],
   "source": [
    "url = 'https://www.amazon.com/dp/B07FPP6TB5/ref=va_live_carousel?pf_rd_r=191GNAVNJNZ3PS972DT2&pf_rd_p=6c4803e3-e5a5-4872-a2f0-cef332ad5a09&pf_rd_m=ATVPDKIKX0DER&pf_rd_t=Events&pf_rd_s=slot-13&linkCode=ilv&tag=onamzbellagif-20&ascsubtag=Deals_on_Deals_on_Deals_220312040111&asc_contentid=amzn1.amazonlive.broadcast.ce568308-2bab-4098-b43b-d6b3f43f3ad9&pd_rd_i=B07FPP6TB5&th=1&psc=1'\n",
    "headers = {\"User-Agent\": \"Mozilla/5.0 (Windows NT 10.0; Win64; x64) AppleWebKit/537.36 (KHTML, like Gecko) Chrome/78.0.3904.108 Safari/537.36\", \"Accept-Encoding\":\"gzip, deflate\", \"Accept\":\"text/html,application/xhtml+xml,application/xml;q=0.9,*/*;q=0.8\", \"DNT\":\"1\",\"Connection\":\"close\", \"Upgrade-Insecure-Requests\":\"1\"}\n",
    "page = requests.get(url, headers=headers)\n",
    "soup1 = BeautifulSoup(page.content, \"html.parser\")\n",
    "soup2 = BeautifulSoup(soup1.prettify(), \"html.parser\")\n"
   ]
  },
  {
   "cell_type": "code",
   "execution_count": 4,
   "metadata": {},
   "outputs": [
    {
     "name": "stdout",
     "output_type": "stream",
     "text": [
      "        Insignia 32-inch Class F20 Series Smart HD 720p Fire TV (NS-32DF310NA19, 2018 Model)       \n",
      "$179.99\n"
     ]
    }
   ],
   "source": [
    "title = soup1.find(id='productTitle').getText()\n",
    "price = soup1.find(class_=\"a-offscreen\").getText()\n",
    "date = datetime.date.today()\n",
    "print(date)\n",
    "print(title)\n",
    "print(price)"
   ]
  },
  {
   "cell_type": "code",
   "execution_count": 59,
   "metadata": {},
   "outputs": [],
   "source": [
    "header = ['Title', 'Price', 'Date']\n",
    "data = [title, price, date]\n",
    "\n",
    "with open('AmazonWebScraper.csv', 'w', newline='\\n', encoding = 'UTF8') as f:\n",
    "    writer = csv.writer(f)\n",
    "    writer.writerow(header)\n",
    "    writer.writerow(data)\n",
    "    # writer.writerow(data)"
   ]
  },
  {
   "cell_type": "code",
   "execution_count": 44,
   "metadata": {},
   "outputs": [],
   "source": [
    "df = pd.read_csv('AmazonWebScraper.csv')"
   ]
  },
  {
   "cell_type": "code",
   "execution_count": 60,
   "metadata": {},
   "outputs": [],
   "source": [
    "with open('AmazonWebScraper.csv', 'w', newline='\\n', encoding = 'UTF8') as f:\n",
    "    writer = csv.writer(f)\n",
    "    writer.writerow(data)"
   ]
  },
  {
   "cell_type": "code",
   "execution_count": 65,
   "metadata": {},
   "outputs": [],
   "source": [
    "def send_mail():\n",
    "    server = smtplib.SMTP_SSL('smtp.gmail.com',465)\n",
    "    server.ehlo()\n",
    "    #server.starttls()\n",
    "    server.ehlo()\n",
    "    server.login('apurvkumar505@gmail.com','**********')\n",
    "\n",
    "    subject = \"Mike testing, Mike testing\"\n",
    "    body = \"Test\"\n",
    "\n",
    "    msg = f\"Subject: {subject}\\n\\n{body}\"\n",
    "\n",
    "    server.sendmail(\n",
    "        'apurvkumar505@gmail.com',\n",
    "        msg\n",
    "    )"
   ]
  },
  {
   "cell_type": "code",
   "execution_count": 46,
   "metadata": {},
   "outputs": [],
   "source": [
    "def check_price(): \n",
    "    url = 'https://www.amazon.com/dp/B07FPP6TB5/ref=va_live_carousel?pf_rd_r=191GNAVNJNZ3PS972DT2&pf_rd_p=6c4803e3-e5a5-4872-a2f0-cef332ad5a09&pf_rd_m=ATVPDKIKX0DER&pf_rd_t=Events&pf_rd_s=slot-13&linkCode=ilv&tag=onamzbellagif-20&ascsubtag=Deals_on_Deals_on_Deals_220312040111&asc_contentid=amzn1.amazonlive.broadcast.ce568308-2bab-4098-b43b-d6b3f43f3ad9&pd_rd_i=B07FPP6TB5&th=1&psc=1'\n",
    "    headers = {\"User-Agent\": \"Mozilla/5.0 (Windows NT 10.0; Win64; x64) AppleWebKit/537.36 (KHTML, like Gecko) Chrome/78.0.3904.108 Safari/537.36\", \"Accept-Encoding\":\"gzip, deflate\", \"Accept\":\"text/html,application/xhtml+xml,application/xml;q=0.9,*/*;q=0.8\", \"DNT\":\"1\",\"Connection\":\"close\", \"Upgrade-Insecure-Requests\":\"1\"}\n",
    "    page = requests.get(url, headers=headers)\n",
    "    soup1 = BeautifulSoup(page.content, \"html.parser\")\n",
    "    soup2 = BeautifulSoup(soup1.prettify(), \"html.parser\")\n",
    "    title = soup1.find(id='productTitle').getText()\n",
    "    price = soup1.find(class_=\"a-offscreen\").getText()\n",
    "    price = price.strip()[1:]\n",
    "    title = title.strip()\n",
    "    date = datetime.date.today()\n",
    "    print(date)\n",
    "    print(title)\n",
    "    print(price)\n",
    "    header = ['Title', 'Price', 'Date']\n",
    "    data = [title, price, date]\n",
    "    with open('AmazonWebScraper.csv', 'a+', newline='\\n', encoding = 'UTF8') as f:\n",
    "        writer = csv.writer(f)\n",
    "        writer.writerow(data)\n",
    "    if price<150:\n",
    "        send_mail()"
   ]
  },
  {
   "cell_type": "code",
   "execution_count": 61,
   "metadata": {},
   "outputs": [],
   "source": [
    "for i in range(5):\n",
    "    check_price()\n",
    "    time.sleep(86400) #Every 24 hours\n"
   ]
  },
  {
   "cell_type": "code",
   "execution_count": 66,
   "metadata": {},
   "outputs": [
    {
     "data": {
      "text/html": [
       "<div>\n",
       "<style scoped>\n",
       "    .dataframe tbody tr th:only-of-type {\n",
       "        vertical-align: middle;\n",
       "    }\n",
       "\n",
       "    .dataframe tbody tr th {\n",
       "        vertical-align: top;\n",
       "    }\n",
       "\n",
       "    .dataframe thead th {\n",
       "        text-align: right;\n",
       "    }\n",
       "</style>\n",
       "<table border=\"1\" class=\"dataframe\">\n",
       "  <thead>\n",
       "    <tr style=\"text-align: right;\">\n",
       "      <th></th>\n",
       "      <th>Insignia 32-inch Class F20 Series Smart HD 720p Fire TV (NS-32DF310NA19, 2018 Model)</th>\n",
       "      <th>179.99</th>\n",
       "      <th>2022-03-15</th>\n",
       "    </tr>\n",
       "  </thead>\n",
       "  <tbody>\n",
       "  </tbody>\n",
       "</table>\n",
       "</div>"
      ],
      "text/plain": [
       "Empty DataFrame\n",
       "Columns: [Insignia 32-inch Class F20 Series Smart HD 720p Fire TV (NS-32DF310NA19, 2018 Model), 179.99, 2022-03-15]\n",
       "Index: []"
      ]
     },
     "execution_count": 66,
     "metadata": {},
     "output_type": "execute_result"
    }
   ],
   "source": [
    "df = pd.read_csv('AmazonWebScraper.csv')\n",
    "df"
   ]
  },
  {
   "cell_type": "code",
   "execution_count": null,
   "metadata": {},
   "outputs": [],
   "source": []
  },
  {
   "cell_type": "code",
   "execution_count": null,
   "metadata": {},
   "outputs": [],
   "source": []
  }
 ],
 "metadata": {
  "interpreter": {
   "hash": "6b1e02b5f4c21ef516eba28fa95d56ab96b3fc1e6c54475b203ee93ff8b9dd1e"
  },
  "kernelspec": {
   "display_name": "Python 3.10.0 ('env': venv)",
   "language": "python",
   "name": "python3"
  },
  "language_info": {
   "codemirror_mode": {
    "name": "ipython",
    "version": 3
   },
   "file_extension": ".py",
   "mimetype": "text/x-python",
   "name": "python",
   "nbconvert_exporter": "python",
   "pygments_lexer": "ipython3",
   "version": "3.10.0"
  },
  "orig_nbformat": 4
 },
 "nbformat": 4,
 "nbformat_minor": 2
}
